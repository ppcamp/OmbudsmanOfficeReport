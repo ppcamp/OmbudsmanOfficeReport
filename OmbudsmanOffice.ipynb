{
 "cells": [
  {
   "cell_type": "code",
   "execution_count": null,
   "metadata": {},
   "outputs": [],
   "source": [
    "# Share the sheet for this email:\n",
    "# reportouvidoria@ouvidoriaitabira.iam.gserviceaccount.com\n",
    "\n",
    "ID =  '1YVhyxv2jUbDQ-esHHfzgqn_CXSniIP15OxJGQzjkFR8' # Julho\n",
    "URL = 'https://docs.google.com/spreadsheets/d/{}/edit?usp=sharing'.format(ID)"
   ]
  },
  {
   "cell_type": "code",
   "execution_count": null,
   "metadata": {},
   "outputs": [],
   "source": [
    "titles = {\n",
    "    'TFD': None,      # TFD \n",
    "    'CM': None,       # Central de marcação\n",
    "    'CEAE': None,     # CEAE\n",
    "    'UE': None,       # Urgência e emergência\n",
    "    'CR': None,       # Central de reabilitação\n",
    "    'SB': None,       # Saúde Bucal\n",
    "    'Poli': None,     # Policlínica\n",
    "    'VS': None,       # Vigilância em saúde\n",
    "    'Assist': None,   # Assistência farmacêutica e insumos\n",
    "    'ADM': None,      # Administração em saúde \n",
    "    'SM': None        # Saúde mental\n",
    "}"
   ]
  },
  {
   "cell_type": "code",
   "execution_count": null,
   "metadata": {},
   "outputs": [],
   "source": [
    "titles['TFD'] = 'Example.'\n",
    "titles['Poli'] = ['Example.', 'Example.']"
   ]
  },
  {
   "cell_type": "markdown",
   "metadata": {
    "colab_type": "text",
    "id": "lq-OLd7_SIgj"
   },
   "source": [
    "# Login and Sheet load\n",
    "\n"
   ]
  },
  {
   "cell_type": "markdown",
   "metadata": {
    "colab_type": "text",
    "id": "wtudF79SmcMs"
   },
   "source": [
    "Create a folder drive that will be used for logo image and fonts."
   ]
  },
  {
   "cell_type": "code",
   "execution_count": null,
   "metadata": {
    "colab": {
     "base_uri": "https://localhost:8080/",
     "height": 71
    },
    "colab_type": "code",
    "id": "miG_foGmZ0Qk",
    "outputId": "6fb3d230-6871-4a2c-f1b4-57f575a4126e"
   },
   "outputs": [],
   "source": [
    "# -*- coding: utf-8 -*-\n",
    "import pandas as pd\n",
    "import numpy as np\n",
    "\n",
    "from oauth2client.service_account import ServiceAccountCredentials as Credentials\n",
    "import gspread # Sheets"
   ]
  },
  {
   "cell_type": "code",
   "execution_count": null,
   "metadata": {},
   "outputs": [],
   "source": [
    "# Login Constants\n",
    "SCOPE = ['https://www.googleapis.com/auth/spreadsheets.readonly']\n",
    "\n",
    "# Create an Client\n",
    "\n",
    "GAUTH = Credentials.from_json_keyfile_name('credentials/nisis_credentials.json',SCOPE)\n",
    "# Auth the client\n",
    "GCLIENT = gspread.authorize(GAUTH)"
   ]
  },
  {
   "cell_type": "code",
   "execution_count": null,
   "metadata": {
    "colab": {},
    "colab_type": "code",
    "id": "gaN6b4klaU2n"
   },
   "outputs": [],
   "source": [
    "wb    = GCLIENT.open_by_url(URL) # client open this url\n",
    "sheet = wb.worksheet('Respostas ao formulário 1')\n",
    "data = sheet.get_all_values() # get csv titles['TFD'] from spreadsheet\n",
    "\n",
    "df = pd.DataFrame(data)\n",
    "df.columns = df.iloc[0] # Nomes das colunas na primeira linha\n",
    "df = df.iloc[1:] # Os dado começão da segunda linha\n",
    "\n",
    "df.drop(labels=['OuvidorSUS','Concluído', 'Aguardando Resposta Setor'], \n",
    "        axis=1, inplace=True)\n",
    "df.replace('', np.nan, inplace=True)\n",
    "\n",
    "df.reset_index(inplace=True)"
   ]
  },
  {
   "cell_type": "markdown",
   "metadata": {
    "colab_type": "text",
    "id": "rqTl_2NvTSD-"
   },
   "source": [
    "# Plots"
   ]
  },
  {
   "cell_type": "markdown",
   "metadata": {
    "colab_type": "text",
    "id": "o5sxlXjVS2Hy"
   },
   "source": [
    "## Plot functions"
   ]
  },
  {
   "cell_type": "code",
   "execution_count": null,
   "metadata": {},
   "outputs": [],
   "source": [
    "import matplotlib.pyplot as plt\n",
    "import seaborn as sns\n",
    "from io import StringIO,BytesIO # Ima\n",
    "\n",
    "sns.set(style='ticks')"
   ]
  },
  {
   "cell_type": "code",
   "execution_count": null,
   "metadata": {
    "colab": {},
    "colab_type": "code",
    "id": "dUxyJJS5EJMC"
   },
   "outputs": [],
   "source": [
    "def plot_bar_graph(df, name, graph_title=None,\n",
    "                   figsize=(13,5),\n",
    "                   n_step=0,\n",
    "                   fontsize=14,\n",
    "                   label_height=.005,\n",
    "                   x_rotation=0,\n",
    "                   ann_rotation=0,\n",
    "                   loc='lower center',\n",
    "                   bbox_to_anchor=(.5, -.3),\n",
    "                   legend=False):\n",
    "    \"\"\"\n",
    "    Plot bar graph\n",
    "\n",
    "    Parameters\n",
    "    ----------\n",
    "    df : DataFrame, required\n",
    "          DataFrame witch the data will be extract.\n",
    "    name : string, required\n",
    "          column name inside DataFrame.\n",
    "    graph_title : string, optional, default: None\n",
    "          title for the ploted graph.\n",
    "          if not provided, will be used the column name\n",
    "    figsize : (float, float), optional, default: (13, 4)\n",
    "          width, height in inches for the plot.\n",
    "    n_step : integer, optional, default: 0\n",
    "          incresse the number of ticks in the Y position\n",
    "    fontsize: float, optional, default: 14\n",
    "          size of the smallest font used in the graph\n",
    "          the title font size will be .5x bigger than fontsize\n",
    "    label_height: float, optional, default: .005\n",
    "          height of labels that stand over the bars\n",
    "    x_rotation: integer, optional, default: 0\n",
    "    ann_rotation: integer, optional, default: 0\n",
    "    loc: string or (float, float), optional, default: 'lower center'\n",
    "          location of the legend\n",
    "    bbox_to_anchor: (float, float), optional, default: (.5, -.3)\n",
    "          Box that is used to position the legend in conjunction with loc\n",
    "  \"\"\" \n",
    "  \n",
    "    df2 = df[name].value_counts(normalize=True)\n",
    "\n",
    "    if not df2.empty:\n",
    "        fig = plt.figure()\n",
    "        ax = df2.plot.bar(figsize=figsize)\n",
    "\n",
    "        graph_title= graph_title if graph_title != None else name.replace(':', '')\n",
    "        ax.set_title('{}'.format(graph_title), size=fontsize*1.5)\n",
    "\n",
    "        sum = np.sum([axi.get_height() for axi in ax.patches])\n",
    "\n",
    "        for p in ax.patches:\n",
    "            # Percentage of ocurrences plotted for each bar\n",
    "            ax.annotate(s=\"{:.1f}%\".format(round(p.get_height()*100, 1)),\n",
    "                        xy=(p.get_x()+p.get_width()*.5,\n",
    "                            p.get_height()+label_height),\n",
    "                        horizontalalignment='center',\n",
    "                        rotation=ann_rotation,\n",
    "                        size=fontsize)\n",
    "\n",
    "        yticks = ax.get_yticks()\n",
    "        step = yticks[1]-yticks[0]\n",
    "        yticks = ax.set_yticks(np.arange(start=yticks[0], \n",
    "                                         stop=yticks[-1]+n_step*step, step=step))\n",
    "        yticklabels = ax.set_yticklabels(\n",
    "            ['{:04.1f}%'.format(x*100) for x in ax.get_yticks()], size=fontsize)\n",
    "\n",
    "        xticklabels = ax.set_xticklabels(labels=ax.get_xticklabels(), \n",
    "                                         rotation=x_rotation, size=fontsize)\n",
    "\n",
    "        total = df[name].value_counts().sum()\n",
    "        resp = 'resposta' if total==1 else 'respostas'\n",
    "        if legend:\n",
    "            legend = ax.legend(['{} ( {} {} )'.format(name.replace(':',''),\n",
    "                                                    total,resp)],\n",
    "                    loc=loc,\n",
    "                    bbox_to_anchor=bbox_to_anchor,\n",
    "                    framealpha=0,\n",
    "                    fontsize=fontsize)\n",
    "        sns.despine()\n",
    "\n",
    "        fig.tight_layout()\n",
    "        return fig, total\n",
    "    else:\n",
    "        print('A coluna \"{}\" está vazia'.format(df2.name))\n",
    "        return None, None\n",
    "        \n",
    "        \n",
    "def func(pct, sum):\n",
    "    absolute = int(pct/100*sum + 0.3) # we must sum .3 to force correct values\n",
    "    return \"{:.1f}%\\n{:d}\".format(pct, absolute)\n",
    "\n",
    "def plot_pie_graph(df, name, graph_title=None,\n",
    "                   figsize=(13,5),\n",
    "                   fontsize=14,\n",
    "                   explode=False,\n",
    "                   i_explode=0,\n",
    "                   s_explode=.05,\n",
    "                   legend_title=\"\",\n",
    "                   loc=\"center left\",\n",
    "                   bbox_to_anchor=(1, 0, 0.5, 1),\n",
    "                   legend=False):\n",
    "    df2 = df[name].value_counts(normalize=True)\n",
    "\n",
    "    if not df2.empty:\n",
    "        fig, ax = plt.subplots(figsize=figsize)\n",
    "\n",
    "        a_explode = np.array([0.0]*len(df2))\n",
    "        graph_title= graph_title if graph_title != None else name.replace(':', '')\n",
    "\n",
    "        if explode:\n",
    "            a_explode[i_explode] = s_explode\n",
    "\n",
    "        sum = df[name].value_counts().sum()\n",
    "\n",
    "        wedges, texts, autotexts = ax.pie(df2,\n",
    "                                          autopct=lambda pct: func(pct,sum),\n",
    "                                          explode=a_explode)\n",
    "        if legend:\n",
    "            legend = ax.legend(wedges, df2.axes[0],\n",
    "                    loc=loc,\n",
    "                    bbox_to_anchor=bbox_to_anchor,\n",
    "                    title=legend_title,\n",
    "                    fontsize=fontsize)\n",
    "          # ax.set_title('{}'.format(graph_title),\n",
    "          #             size=fontsize*1.5, color='black', weight='bold')\n",
    "\n",
    "            plt.setp(legend.get_title(), fontsize=fontsize*1.5)\n",
    "        plt.setp(autotexts, size=fontsize*1.5, color='white', weight=\"bold\")\n",
    "\n",
    "        ax.axis('equal')\n",
    "        total = df[name].value_counts().sum()\n",
    "        resp = 'resposta' if total==1 else 'respostas'\n",
    "        fig.tight_layout()\n",
    "\n",
    "        return fig,  total\n",
    "    else:\n",
    "        print('A coluna \"{}\" está vazia'.format(df2.name))\n",
    "        return None, None"
   ]
  },
  {
   "cell_type": "markdown",
   "metadata": {},
   "source": [
    "## Generate each plot"
   ]
  },
  {
   "cell_type": "code",
   "execution_count": null,
   "metadata": {
    "colab": {},
    "colab_type": "code",
    "id": "JwzKSDVL_-Ea"
   },
   "outputs": [],
   "source": [
    "imgBuffer = {}\n",
    "labelBuffer = {}\n",
    "imgSizes = {}\n",
    "\n",
    "class Struct(object):\n",
    "    def __init__(self,x,y):\n",
    "        self.x, self.y = x,y\n",
    "    def getXY(self):\n",
    "        return (self.x, self.y)"
   ]
  },
  {
   "cell_type": "markdown",
   "metadata": {
    "colab_type": "text",
    "id": "eq0BKqgApN2i"
   },
   "source": [
    "### Tipo de manifestação"
   ]
  },
  {
   "cell_type": "code",
   "execution_count": null,
   "metadata": {
    "colab": {
     "base_uri": "https://localhost:8080/",
     "height": 725
    },
    "colab_type": "code",
    "id": "xEQmnJ5jbqw_",
    "outputId": "74e60fb7-8cb9-418a-898c-721818e79751"
   },
   "outputs": [],
   "source": [
    "auxImg, auxLbl = False, False\n",
    "imgSizes['tpManifest'] = Struct(13,10)\n",
    "\n",
    "auxImg, auxLbl = plot_bar_graph(df=df, \n",
    "                                graph_title='', \n",
    "                                name='Tipo de Manifestação:',\n",
    "                                figsize=imgSizes['tpManifest'].getXY())\n",
    "if auxImg:\n",
    "    buf = BytesIO()\n",
    "    auxImg.savefig(buf, format='png')\n",
    "    buf.seek(0)\n",
    "\n",
    "imgBuffer['tpManifest'] = buf\n",
    "labelBuffer['tpManifest'] = auxLbl"
   ]
  },
  {
   "cell_type": "markdown",
   "metadata": {
    "colab_type": "text",
    "id": "EmY-9ZK63z0h"
   },
   "source": [
    "### Serviços"
   ]
  },
  {
   "cell_type": "code",
   "execution_count": null,
   "metadata": {
    "colab": {
     "base_uri": "https://localhost:8080/",
     "height": 656
    },
    "colab_type": "code",
    "id": "SYvGaQ6WEdjr",
    "outputId": "692521b4-14fe-45ef-9e87-536e49dee28f"
   },
   "outputs": [],
   "source": [
    "imgSizes['services'] = Struct(11,9)\n",
    "auxImg, auxLbl = plot_bar_graph(df=df, graph_title='', \n",
    "                                name='Serviços:',\n",
    "                                x_rotation=90,\n",
    "                                ann_rotation=90,\n",
    "                                label_height=0.01,\n",
    "                                n_step=1,\n",
    "                                bbox_to_anchor=(.5, -.9),\n",
    "                                figsize=imgSizes['services'].getXY())\n",
    "if auxImg:\n",
    "    buf = BytesIO()\n",
    "    auxImg.savefig(buf, format='png')\n",
    "    buf.seek(0)\n",
    "\n",
    "imgBuffer['services'] = buf\n",
    "labelBuffer['services'] = auxLbl"
   ]
  },
  {
   "cell_type": "markdown",
   "metadata": {
    "colab_type": "text",
    "id": "CSnpuN3K338g"
   },
   "source": [
    "### Objeto da Manifestação - TFD"
   ]
  },
  {
   "cell_type": "code",
   "execution_count": null,
   "metadata": {
    "colab": {
     "base_uri": "https://localhost:8080/",
     "height": 653
    },
    "colab_type": "code",
    "id": "wLJQ595KByBO",
    "outputId": "54b30e1f-07be-49a4-f8cf-382d8d8be498"
   },
   "outputs": [],
   "source": [
    "imgSizes['tfd'] = Struct(9,9)\n",
    "auxImg, auxLbl = plot_bar_graph(df=df, graph_title='', \n",
    "                                name='Objeto da Manifestação - TFD',\n",
    "                                x_rotation=90,\n",
    "                                ann_rotation=90,\n",
    "                                label_height=0.03,\n",
    "                                n_step=2,\n",
    "                                bbox_to_anchor=(.5, -.8),\n",
    "                                figsize=imgSizes['tfd'].getXY())\n",
    "if auxImg:\n",
    "    buf = BytesIO()\n",
    "    auxImg.savefig(buf, format='png')\n",
    "    buf.seek(0)\n",
    "\n",
    "imgBuffer['tfd'] = buf\n",
    "labelBuffer['tfd'] = auxLbl"
   ]
  },
  {
   "cell_type": "markdown",
   "metadata": {
    "colab_type": "text",
    "id": "rbgdtcPUo890"
   },
   "source": [
    "```python\n",
    "# Para gerar também os outros do obj TFD:\n",
    "# auxImg, auxLbl = plot_bar_graph(df=df, graph_title='', \n",
    "                                name='Objeto da Manifestação - TFD - Outros',\n",
    "                                x_rotation=90,\n",
    "                                n_step=2,\n",
    "                                bbox_to_anchor=(.5, -1.8))\n",
    "# imgBuffer.append(auxImg)\n",
    "```"
   ]
  },
  {
   "cell_type": "markdown",
   "metadata": {
    "colab_type": "text",
    "id": "MtT0Xik3384e"
   },
   "source": [
    "### Objeto de Manifestação - Central de Marcação"
   ]
  },
  {
   "cell_type": "code",
   "execution_count": null,
   "metadata": {
    "colab": {
     "base_uri": "https://localhost:8080/",
     "height": 832
    },
    "colab_type": "code",
    "id": "AyiD_5QXAwsn",
    "outputId": "5adf86c2-0cf0-456f-f460-0dea3adff422"
   },
   "outputs": [],
   "source": [
    "imgSizes['marcacao'] = Struct(15,13)\n",
    "auxImg, auxLbl = plot_bar_graph(df=df, graph_title='', \n",
    "                                name='Objeto da Manifestação - Central de Marcação',\n",
    "                                ann_rotation=90,\n",
    "                                x_rotation=90,\n",
    "                                n_step=1,\n",
    "                                bbox_to_anchor=(.5, -.75),\n",
    "                                figsize=imgSizes['marcacao'].getXY())\n",
    "if auxImg:\n",
    "    buf = BytesIO()\n",
    "    auxImg.savefig(buf, format='png')\n",
    "    buf.seek(0)\n",
    "\n",
    "imgBuffer['marcacao'] = buf\n",
    "labelBuffer['marcacao'] = auxLbl"
   ]
  },
  {
   "cell_type": "markdown",
   "metadata": {
    "colab_type": "text",
    "id": "MOcys4lm4NAd"
   },
   "source": [
    "```python\n",
    "# Caso seja necessário, use o Objeto de Manifestação outros:\n",
    "# auxImg, auxLbl = plot_bar_graph(df=df, graph_title='', \n",
    "                                name='Objeto da Manifestação - CM - Outros',\n",
    "                                ann_rotation=90,\n",
    "                                x_rotation=90,\n",
    "                                n_step=2,\n",
    "                                bbox_to_anchor=(.5, -1.3))\n",
    "# imgBuffer.append(auxImg)\n",
    "```"
   ]
  },
  {
   "cell_type": "markdown",
   "metadata": {
    "colab_type": "text",
    "id": "0r-CouYs4Y73"
   },
   "source": [
    "### Objeto de Manifestação - CEAE"
   ]
  },
  {
   "cell_type": "code",
   "execution_count": null,
   "metadata": {
    "colab": {
     "base_uri": "https://localhost:8080/",
     "height": 653
    },
    "colab_type": "code",
    "id": "iXnqAMhpcBAu",
    "outputId": "022ee97f-27e4-4c2d-bc31-7fcc2d1db05e"
   },
   "outputs": [],
   "source": [
    "imgSizes['ceae'] = Struct(9,9)\n",
    "auxImg, auxLbl = plot_pie_graph(df=df, graph_title='', \n",
    "                                name='Objeto da Manifestação - CEAE',\n",
    "                                fontsize=12, \n",
    "                                legend_title='Procedimentos',\n",
    "                                explode=True,\n",
    "                                figsize=imgSizes['ceae'].getXY(),\n",
    "                                legend=True)\n",
    "if auxImg:    \n",
    "    buf = BytesIO()\n",
    "    auxImg.savefig(buf, format='png')\n",
    "    buf.seek(0)\n",
    "\n",
    "imgBuffer['ceae'] = buf\n",
    "labelBuffer['ceae'] = auxLbl"
   ]
  },
  {
   "cell_type": "markdown",
   "metadata": {
    "colab_type": "text",
    "id": "uOlahxLc4kFO"
   },
   "source": [
    "```python\n",
    "# Ceae outros:\n",
    "# imgSizes.append(Struct(9,9))\n",
    "# auxImg, auxLbl = plot_pie_graph(df=df, graph_title='', \n",
    "                                name='Objeto da Manifestação - CEAE - Outros',\n",
    "                                fontsize=10, \n",
    "                                explode=True,\n",
    "                                figsize=imgSizes[-1].getXY(),\n",
    "                                legend=True)\n",
    "# buf = BytesIO()\n",
    "# auxImg.savefig(buf, format='png')\n",
    "# buf.seek(0)\n",
    "# imgBuffer.append(buf)\n",
    "\n",
    "# labelBuffer.append(auxLbl)\n",
    "```"
   ]
  },
  {
   "cell_type": "markdown",
   "metadata": {
    "colab_type": "text",
    "id": "G4WZ65qv4u5m"
   },
   "source": [
    "### Objeto de Manifestação – Urgência e Emergência"
   ]
  },
  {
   "cell_type": "code",
   "execution_count": null,
   "metadata": {
    "colab": {
     "base_uri": "https://localhost:8080/",
     "height": 653
    },
    "colab_type": "code",
    "id": "Jd47jS6M_7tf",
    "outputId": "3fbbfd85-3f4a-4492-e7d9-86db442c7ce7"
   },
   "outputs": [],
   "source": [
    "imgSizes['ue'] = Struct(9,9)\n",
    "auxImg, auxLbl = plot_pie_graph(df=df, name='Objeto da Manifestação - UE',\n",
    "                                fontsize=10, \n",
    "                                explode=True,\n",
    "                                figsize=imgSizes['ue'].getXY(),\n",
    "                                legend=True)\n",
    "if auxImg:\n",
    "    buf = BytesIO()\n",
    "    auxImg.savefig(buf, format='png')\n",
    "    buf.seek(0)\n",
    "\n",
    "imgBuffer['ue'] = buf\n",
    "labelBuffer['ue'] = auxLbl"
   ]
  },
  {
   "cell_type": "markdown",
   "metadata": {
    "colab_type": "text",
    "id": "Zte_WfMt48tV"
   },
   "source": [
    "### Objeto de Manifestação – Centro de Reabilitação"
   ]
  },
  {
   "cell_type": "code",
   "execution_count": null,
   "metadata": {
    "colab": {
     "base_uri": "https://localhost:8080/",
     "height": 653
    },
    "colab_type": "code",
    "id": "Zc_3JCizb_QK",
    "outputId": "90ff05cf-39a9-4e4e-9645-537455178714"
   },
   "outputs": [],
   "source": [
    "imgSizes['cr'] = Struct(9,9)\n",
    "auxImg, auxLbl = plot_pie_graph(df=df, name='Objeto da Manifestação - CR',\n",
    "                                fontsize=10, \n",
    "                                explode=True, \n",
    "                                figsize=imgSizes['cr'].getXY(),\n",
    "                                legend=True)\n",
    "if auxImg:\n",
    "    buf = BytesIO()\n",
    "    auxImg.savefig(buf, format='png')\n",
    "    buf.seek(0)\n",
    "\n",
    "imgBuffer['cr'] = buf\n",
    "labelBuffer['cr'] = auxLbl"
   ]
  },
  {
   "cell_type": "markdown",
   "metadata": {
    "colab_type": "text",
    "id": "5LfyPEU95GTj"
   },
   "source": [
    "### Objeto de Manifestação – PSF"
   ]
  },
  {
   "cell_type": "code",
   "execution_count": null,
   "metadata": {
    "colab": {
     "base_uri": "https://localhost:8080/",
     "height": 653
    },
    "colab_type": "code",
    "id": "kT9g8g-xBdef",
    "outputId": "e9ab8597-8657-43e5-9357-20ada2023682"
   },
   "outputs": [],
   "source": [
    "imgSizes['psf'] = Struct(9,9)\n",
    "auxImg, auxLbl = plot_bar_graph(df=df, graph_title='', \n",
    "                                name='Objeto da Manifestação - PSF',\n",
    "                                x_rotation=90,\n",
    "                                bbox_to_anchor=(.5, -1), \n",
    "                                figsize=imgSizes['psf'].getXY())\n",
    "\n",
    "if auxImg:    \n",
    "    buf = BytesIO()\n",
    "    auxImg.savefig(buf, format='png')\n",
    "    buf.seek(0)\n",
    "\n",
    "imgBuffer['psf'] = buf\n",
    "labelBuffer['psf'] = auxLbl"
   ]
  },
  {
   "cell_type": "markdown",
   "metadata": {
    "colab_type": "text",
    "id": "3V3Zb4vu5Rs_"
   },
   "source": [
    "### Objeto de Manifestação – Saúde Bucal"
   ]
  },
  {
   "cell_type": "code",
   "execution_count": null,
   "metadata": {
    "colab": {
     "base_uri": "https://localhost:8080/",
     "height": 653
    },
    "colab_type": "code",
    "id": "vf4UTMracsSt",
    "outputId": "b2d6595b-b929-4081-a878-e47d54c5a29a"
   },
   "outputs": [],
   "source": [
    "imgSizes['bucal'] = Struct(9,9)\n",
    "auxImg, auxLbl = plot_pie_graph(df=df, name='Objeto da Manifestação - SAÚDE BUCAL',\n",
    "                                fontsize=10,\n",
    "                                explode=True, \n",
    "                                figsize=imgSizes['bucal'].getXY(),\n",
    "                                legend=True)\n",
    "if auxImg:\n",
    "    buf = BytesIO()\n",
    "    auxImg.savefig(buf, format='png')\n",
    "    buf.seek(0)\n",
    "\n",
    "imgBuffer['bucal'] = buf\n",
    "labelBuffer['bucal'] = auxLbl"
   ]
  },
  {
   "cell_type": "markdown",
   "metadata": {
    "colab_type": "text",
    "id": "ZmGTR9v95d-Z"
   },
   "source": [
    "### Objeto de Manifestação – Policlínica"
   ]
  },
  {
   "cell_type": "code",
   "execution_count": null,
   "metadata": {
    "colab": {
     "base_uri": "https://localhost:8080/",
     "height": 653
    },
    "colab_type": "code",
    "id": "ujPnj2Gif600",
    "outputId": "445c4b1d-6bc5-476e-974d-02d744449454"
   },
   "outputs": [],
   "source": [
    "imgSizes['poli'] = Struct(9,9)\n",
    "auxImg, auxLbl = plot_pie_graph(df=df, name='Objeto da Manifestação - Policlínica',\n",
    "                                fontsize=10, \n",
    "                                explode=True, \n",
    "                                figsize=imgSizes['poli'].getXY(),\n",
    "                                legend=True)\n",
    "if auxImg:\n",
    "    buf = BytesIO()\n",
    "    auxImg.savefig(buf, format='png')\n",
    "    buf.seek(0)\n",
    "\n",
    "imgBuffer['poli'] = buf\n",
    "labelBuffer['poli'] = auxLbl"
   ]
  },
  {
   "cell_type": "markdown",
   "metadata": {
    "colab_type": "text",
    "id": "bhAKXui65q-k"
   },
   "source": [
    "### Objeto de Manifestação – Vigilância em Saúde"
   ]
  },
  {
   "cell_type": "code",
   "execution_count": null,
   "metadata": {
    "colab": {
     "base_uri": "https://localhost:8080/",
     "height": 653
    },
    "colab_type": "code",
    "id": "9L3PiLlogFJF",
    "outputId": "2690597f-0105-442a-c092-70fa88be9a7b"
   },
   "outputs": [],
   "source": [
    "imgSizes['vsaude'] = Struct(9,9)\n",
    "auxImg, auxLbl = plot_pie_graph(df=df, name='Objeto da Manifestação - VIGILÂNCIA EM SAÚDE',\n",
    "                                fontsize=10, \n",
    "                                explode=True, \n",
    "                                figsize=imgSizes['vsaude'].getXY(),\n",
    "                                legend=True)\n",
    "if auxImg:\n",
    "    buf = BytesIO()\n",
    "    auxImg.savefig(buf, format='png')\n",
    "    buf.seek(0)\n",
    "\n",
    "imgBuffer['vsaude'] = buf\n",
    "labelBuffer['vsaude'] = auxLbl"
   ]
  },
  {
   "cell_type": "markdown",
   "metadata": {
    "colab_type": "text",
    "id": "1Vyc7aty53Tu"
   },
   "source": [
    "### Objeto de Manifestação – Assistência Farmacêutica, Insumos e Nutrição"
   ]
  },
  {
   "cell_type": "code",
   "execution_count": null,
   "metadata": {
    "colab": {
     "base_uri": "https://localhost:8080/",
     "height": 653
    },
    "colab_type": "code",
    "id": "8esIo9yygcOg",
    "outputId": "d84bdb21-56e3-4ebf-878b-9b16a0b3bc39"
   },
   "outputs": [],
   "source": [
    "imgSizes['assist'] = Struct(9,9)\n",
    "auxImg, auxLbl = plot_pie_graph(df=df, name='Objeto da Manifestação - Assistência Farmacêutica, Insumos e Nutrição',\n",
    "                                fontsize=10, \n",
    "                                explode=True, \n",
    "                                figsize=imgSizes['assist'].getXY(),\n",
    "                                legend=True)\n",
    "if auxImg:\n",
    "    buf = BytesIO()\n",
    "    auxImg.savefig(buf, format='png')\n",
    "    buf.seek(0)\n",
    "\n",
    "imgBuffer['assist'] = buf\n",
    "labelBuffer['assist'] = auxLbl"
   ]
  },
  {
   "cell_type": "markdown",
   "metadata": {
    "colab_type": "text",
    "id": "onvZ74y56CW7"
   },
   "source": [
    "### Objeto de Manifestação – Administração em Saúde"
   ]
  },
  {
   "cell_type": "code",
   "execution_count": null,
   "metadata": {
    "colab": {
     "base_uri": "https://localhost:8080/",
     "height": 653
    },
    "colab_type": "code",
    "id": "2nqhB1ohgeSZ",
    "outputId": "e5c7ef95-02dc-4693-deec-8b824a803208"
   },
   "outputs": [],
   "source": [
    "imgSizes['adm'] = Struct(9,9)\n",
    "auxImg, auxLbl = plot_pie_graph(df=df, name='Objeto da Manifestação - ADMINISTRAÇÃO EM SAÚDE',\n",
    "                                fontsize=10, \n",
    "                                explode=True, \n",
    "                                figsize=imgSizes['adm'].getXY(),\n",
    "                                legend=True)\n",
    "if auxImg:\n",
    "    buf = BytesIO()\n",
    "    auxImg.savefig(buf, format='png')\n",
    "    buf.seek(0)\n",
    "\n",
    "imgBuffer['adm'] = buf\n",
    "labelBuffer['adm'] = auxLbl"
   ]
  },
  {
   "cell_type": "markdown",
   "metadata": {
    "colab_type": "text",
    "id": "WnsuBcTl6NrZ"
   },
   "source": [
    "### Objeto de Manifestação – Saúde Mental"
   ]
  },
  {
   "cell_type": "code",
   "execution_count": null,
   "metadata": {
    "colab": {
     "base_uri": "https://localhost:8080/",
     "height": 653
    },
    "colab_type": "code",
    "id": "FPLM49YrhT2E",
    "outputId": "0ce36fd2-d754-4b5b-a4b0-93e72668b28f",
    "tags": []
   },
   "outputs": [],
   "source": [
    "imgSizes['mental'] = Struct(9,9)\n",
    "auxImg, auxLbl = plot_pie_graph(df=df, name='Objeto da Manifestação - SAÚDE MENTAL',\n",
    "                                 fontsize=10, \n",
    "                                 explode=True, \n",
    "                                 figsize=imgSizes['mental'].getXY(),\n",
    "                                 legend=True)\n",
    "if auxImg:\n",
    "    buf = BytesIO()\n",
    "    auxImg.savefig(buf, format='png')\n",
    "    buf.seek(0)\n",
    "\n",
    "imgBuffer['mental'] = buf\n",
    "labelBuffer['mental'] = auxLbl"
   ]
  },
  {
   "cell_type": "markdown",
   "metadata": {
    "colab_type": "text",
    "id": "IeCumtAd8adb"
   },
   "source": [
    "### Origem da demanda"
   ]
  },
  {
   "cell_type": "code",
   "execution_count": null,
   "metadata": {
    "colab": {
     "base_uri": "https://localhost:8080/",
     "height": 768
    },
    "colab_type": "code",
    "id": "E-u9mOWVhlKQ",
    "outputId": "a2b6902c-d356-4167-cd58-78fd11857aed"
   },
   "outputs": [],
   "source": [
    "imgSizes['unidade'] = Struct(15,12)\n",
    "auxImg, auxLbl = plot_bar_graph(df=df, graph_title='', \n",
    "                                name='Unidade de Origem:', \n",
    "                                n_step=1,\n",
    "                                label_height=.0025,\n",
    "                                ann_rotation=90, \n",
    "                                x_rotation=90, \n",
    "                                bbox_to_anchor=(.5,-.65), \n",
    "                                figsize=imgSizes['unidade'].getXY())\n",
    "if auxImg:\n",
    "    buf = BytesIO()\n",
    "    auxImg.savefig(buf, format='png')\n",
    "    buf.seek(0)\n",
    "\n",
    "imgBuffer['unidade'] = buf\n",
    "labelBuffer['unidade'] = auxLbl"
   ]
  },
  {
   "cell_type": "markdown",
   "metadata": {
    "colab_type": "text",
    "id": "wJftRCiz6iR7"
   },
   "source": [
    "### Resolução/Resposta"
   ]
  },
  {
   "cell_type": "code",
   "execution_count": null,
   "metadata": {
    "colab": {
     "base_uri": "https://localhost:8080/",
     "height": 581
    },
    "colab_type": "code",
    "id": "SO3evjLnhq0Z",
    "outputId": "d8746608-143c-4d24-ccd0-7212e64caa26"
   },
   "outputs": [],
   "source": [
    "imgSizes['resolucao'] = Struct(9,8)\n",
    "auxImg, auxLbl = plot_bar_graph(df=df, graph_title='', \n",
    "                                name='Resolução:', \n",
    "                                n_step=1, \n",
    "                                figsize=imgSizes['resolucao'].getXY())\n",
    "if auxImg:\n",
    "    buf = BytesIO()\n",
    "    auxImg.savefig(buf, format='png')\n",
    "    buf.seek(0)\n",
    "\n",
    "imgBuffer['resolucao'] = buf\n",
    "labelBuffer['resolucao'] = auxLbl"
   ]
  },
  {
   "cell_type": "markdown",
   "metadata": {
    "colab_type": "text",
    "id": "8aHjaRImc9FV"
   },
   "source": [
    "# PDF"
   ]
  },
  {
   "cell_type": "markdown",
   "metadata": {
    "colab_type": "text",
    "id": "GZONLH7KCieg"
   },
   "source": [
    "## Imports and mounting settings"
   ]
  },
  {
   "cell_type": "code",
   "execution_count": null,
   "metadata": {
    "colab": {},
    "colab_type": "code",
    "id": "ojdj0Es9dpE8"
   },
   "outputs": [],
   "source": [
    "from reportlab.pdfgen import canvas\n",
    "from reportlab.lib.pagesizes import A4\n",
    "from reportlab.lib.styles import ParagraphStyle\n",
    "from reportlab.lib.units import cm,inch\n",
    "from reportlab.pdfbase import pdfmetrics\n",
    "from reportlab.pdfbase.ttfonts import TTFont\n",
    "from reportlab.platypus import SimpleDocTemplate, XPreformatted, Paragraph, Spacer, PageBreak, Image\n",
    "from reportlab.lib.enums import TA_LEFT, TA_CENTER, TA_RIGHT, TA_JUSTIFY\n",
    "from reportlab.lib.fonts import addMapping"
   ]
  },
  {
   "cell_type": "markdown",
   "metadata": {
    "colab_type": "text",
    "id": "5VxLwyjnCpFx"
   },
   "source": [
    "## Font family and  paragraphs settings\n",
    "> The fonts and images are in \"nisis.cadastro@gmail.com\" drive. Into the folder ouvidoria"
   ]
  },
  {
   "cell_type": "code",
   "execution_count": null,
   "metadata": {
    "colab": {},
    "colab_type": "code",
    "id": "SSEkMBe23gip"
   },
   "outputs": [],
   "source": [
    "fontPath = 'fonts/arial'\n",
    "\n",
    "pdfmetrics.registerFont(TTFont('Arial', fontPath +'.ttf'))\n",
    "pdfmetrics.registerFont(TTFont('Arialb', fontPath + 'bd.ttf'))\n",
    "pdfmetrics.registerFont(TTFont('Ariali', fontPath + 'i.ttf'))\n",
    "pdfmetrics.registerFont(TTFont('Arialbi', fontPath + 'bi.ttf'))\n",
    "# pdfmetrics.registerFont(TTFont('Arialk', fontPath + 'k.ttf'))\n",
    "\n",
    "pdfmetrics.registerFontFamily(\n",
    "    'Arial',\n",
    "    normal='Arial',\n",
    "    bold='Arialb',\n",
    "    italic='Ariali',\n",
    "    boldItalic='Arialbi')"
   ]
  },
  {
   "cell_type": "code",
   "execution_count": null,
   "metadata": {
    "colab": {},
    "colab_type": "code",
    "id": "OU4B3MYuZc_c"
   },
   "outputs": [],
   "source": [
    "def getResp(num):\n",
    "    '''\n",
    "    Function used in report\n",
    "    '''\n",
    "    return 'resposta' if num==1 else 'respostas'"
   ]
  },
  {
   "cell_type": "code",
   "execution_count": null,
   "metadata": {
    "colab": {},
    "colab_type": "code",
    "id": "FZSkC6ea_bpC"
   },
   "outputs": [],
   "source": [
    "#page = canvas.Canvas(\"test.pdf\", pagesize=A4)\n",
    "paragraph_styles = {}\n",
    "paragraph_styles['Default'] = ParagraphStyle(\n",
    "                                name='Normal',\n",
    "                                fontName='Arial',\n",
    "                                fontSize=12,\n",
    "                                alignment=TA_JUSTIFY,\n",
    "                                leading=.6*cm,\n",
    "                                spaceAfter=.75*cm)\n",
    "\n",
    "paragraph_styles['DefaultList'] = ParagraphStyle(\n",
    "                                name='NormalList',\n",
    "                                parent=paragraph_styles['Default'],\n",
    "                                leftIndent=2*cm,\n",
    "                                spaceAfter=.3*cm,\n",
    "                                spaceBefore=.3*cm,\n",
    "                                bulletIndent=2*cm)\n",
    "\n",
    "paragraph_styles['DefaultCentered']= ParagraphStyle(\n",
    "                                name='NormalC',\n",
    "                                parent=paragraph_styles['Default'],\n",
    "                                alignment=TA_CENTER)\n",
    "\n",
    "paragraph_styles['Centered']= ParagraphStyle(\n",
    "                                name='NormalCentered',\n",
    "                                leading=0,\n",
    "                                parent=paragraph_styles['Default'],\n",
    "                                alignment=TA_CENTER)\n",
    "\n",
    "paragraph_styles['Title']= ParagraphStyle(\n",
    "                                name='Title',\n",
    "                                parent=paragraph_styles['Centered'],\n",
    "                                fontSize=14)"
   ]
  },
  {
   "cell_type": "markdown",
   "metadata": {
    "colab_type": "text",
    "id": "wwPDBEFqC-dk"
   },
   "source": [
    "## Content"
   ]
  },
  {
   "cell_type": "markdown",
   "metadata": {},
   "source": [
    "### Date"
   ]
  },
  {
   "cell_type": "code",
   "execution_count": null,
   "metadata": {},
   "outputs": [],
   "source": [
    "# pytz.all_timezones to see all timezones\n",
    "from pytz import timezone # Defaul timezone it's ahead of Brasil(+)\n",
    "from datetime import datetime, date\n",
    "\n",
    "def isMonday():\n",
    "    return date.today().isoweekday() == 1\n",
    "\n",
    "# Note that changing linux localtime, doesn't affect Python\n",
    "BRASIL_TZ = timezone('America/Campo_Grande')\n",
    "DAY, MONTH, YEAR = datetime.now(BRASIL_TZ).strftime(\"%d %m %Y\").split()\n",
    "\n",
    "def getMonthName(month, startUpper=False):\n",
    "    '''\n",
    "    Need it when execute in different system's locale.\n",
    "\n",
    "    Parameter\n",
    "    ---------\n",
    "    startUpper: (boolean)\n",
    "    Force to fst letter be upper.\n",
    "\n",
    "    Return\n",
    "    ------\n",
    "    (string) Month's names.\n",
    "    '''\n",
    "    month = int(month) - 1 # The rep\n",
    "    monthName = ['janeiro',\n",
    "               'fevereiro',\n",
    "               'março',\n",
    "               'abril',\n",
    "               'maio',\n",
    "               'junho',\n",
    "               'julho',\n",
    "               'agosto',\n",
    "               'setembro',\n",
    "               'outubro',\n",
    "               'novembro',\n",
    "               'dezembro'\n",
    "    ]\n",
    "    month = monthName[month-1] if month > 0 else monthName[-1]\n",
    "    m_up = month[0].upper() + month[1:]\n",
    "\n",
    "    return month if not startUpper else m_up \n",
    "\n",
    "\n",
    "# Get month's name\n",
    "last_month = getMonthName(int(MONTH), True)\n",
    "curr_month = getMonthName(int(MONTH)+1, True)"
   ]
  },
  {
   "cell_type": "markdown",
   "metadata": {},
   "source": [
    "### Functions generic"
   ]
  },
  {
   "cell_type": "code",
   "execution_count": null,
   "metadata": {},
   "outputs": [],
   "source": [
    "def pdf_list(l = None):\n",
    "    '''\n",
    "    Create a list with values in list titles['TFD'].\n",
    "    '''\n",
    "    if not l:\n",
    "        print (\"None input\")\n",
    "        return None\n",
    "\n",
    "    parts = []\n",
    "    parts.append(Paragraph(\n",
    "        text=\"Maior incidência (Outros):\",\n",
    "        style=paragraph_styles['Default']\n",
    "    ))\n",
    "\n",
    "    if type(l) == str:\n",
    "        l = [l]\n",
    "\n",
    "    for i in l:\n",
    "        parts.append(Paragraph(\n",
    "            text=i,\n",
    "            style=paragraph_styles['DefaultList'],\n",
    "            bulletText='–'\n",
    "        ))\n",
    "    return parts"
   ]
  },
  {
   "cell_type": "markdown",
   "metadata": {},
   "source": [
    "### Base"
   ]
  },
  {
   "cell_type": "code",
   "execution_count": null,
   "metadata": {
    "colab": {},
    "colab_type": "code",
    "id": "gGhXKW6kM9Nb"
   },
   "outputs": [],
   "source": [
    "parts = []\n",
    "progName = 'Reportlab - Python PDF'\n",
    "progVers = '2.0'\n",
    "fileName = 'Relatório_' + '{} de {} de {}'.format(int(DAY), curr_month, YEAR)"
   ]
  },
  {
   "cell_type": "markdown",
   "metadata": {},
   "source": [
    "### First page"
   ]
  },
  {
   "cell_type": "code",
   "execution_count": null,
   "metadata": {
    "colab": {},
    "colab_type": "code",
    "id": "qFgwIWGpjB7H"
   },
   "outputs": [],
   "source": [
    "month = '{} de {}'.format(last_month, YEAR)\n",
    "qntManifest = df.shape[0]\n",
    "\n",
    "parts.append(Paragraph(\n",
    "    text=\"<b>OUVIDORIA MUNICIPAL DE SAÚDE DE ITABIRA – MG</b>\",\n",
    "    style=paragraph_styles['Title']))\n",
    "\n",
    "parts.append(Spacer(1,.7*cm))\n",
    "\n",
    "parts.append(Paragraph(\n",
    "    text=\"RELATÓRIO DE DEMANDAS – DADOS ESTATÍSTICOS\",\n",
    "    style=paragraph_styles['Centered']))\n",
    "\n",
    "imgLogo = open('img/logo.jpg', 'rb')\n",
    "parts.append(Image(imgLogo, width=75, height=75, hAlign='CENTER'))\n",
    "\n",
    "parts.append(Spacer(1,.5*cm))\n",
    "\n",
    "parts.append(Paragraph(\n",
    "    text=\"<b>Período:</b> \" + month,\n",
    "    style=paragraph_styles['Default']))\n",
    "\n",
    "parts.append(Paragraph(\n",
    "    text=(\"Em {} a Ouvidoria recebeu {} manifestações que foram \\\n",
    "          convertidas em demandas. Todas essas demandas foram registradas \\\n",
    "          eletronicamente, tanto através do Ouvidor SUS quanto no sistema \\\n",
    "          de controle interno deste setor e encaminhadas aos setores \\\n",
    "          competentes por intermédio do processo de ouvidoria SUS para \\\n",
    "          receberem o devido tratamento.\".format(month, qntManifest)),\n",
    "    style=paragraph_styles['Default']\n",
    "))\n",
    "\n",
    "parts.append(Paragraph(\n",
    "    text=\"No Gráfico 1 visualizamos a porcentagem de demandas recebidas \\\n",
    "          por tipos de manifestação.\",\n",
    "    style=paragraph_styles['Default']\n",
    "))\n"
   ]
  },
  {
   "cell_type": "markdown",
   "metadata": {
    "colab_type": "text",
    "id": "dvuXRadV1lL0"
   },
   "source": [
    "### Tipo de manifestação"
   ]
  },
  {
   "cell_type": "code",
   "execution_count": null,
   "metadata": {
    "colab": {},
    "colab_type": "code",
    "id": "pIGBPE-g1Z9E"
   },
   "outputs": [],
   "source": [
    "parts.append(Paragraph(\n",
    "    text=\"<b>Tipo de Manifestação</b> ({} {})\".format(\n",
    "        labelBuffer['tpManifest'],getResp(labelBuffer['tpManifest'])),\n",
    "    style=paragraph_styles['Default']\n",
    "))\n",
    "parts.append(Image(imgBuffer['tpManifest'],\n",
    "                  width= 5 * inch, \n",
    "                  height= imgSizes['tpManifest'].y * (5/imgSizes['tpManifest'].x) * inch,\n",
    "                  kind='proportional',\n",
    "                  hAlign='CENTER'))\n",
    "parts.append(Paragraph(\n",
    "    text=\"Gráfico 1 – Porcentagem de demandas por tipos de manifestação\",\n",
    "    style=paragraph_styles['DefaultCentered']\n",
    "))\n",
    "\n",
    "parts.append(PageBreak())"
   ]
  },
  {
   "cell_type": "markdown",
   "metadata": {
    "colab_type": "text",
    "id": "ltYtunwX1sKn"
   },
   "source": [
    "### Serviços"
   ]
  },
  {
   "cell_type": "code",
   "execution_count": null,
   "metadata": {
    "colab": {},
    "colab_type": "code",
    "id": "l7LuKxA81clV"
   },
   "outputs": [],
   "source": [
    "parts.append(Paragraph(\n",
    "    text=\"O Gráfico 2 demonstra a porcentagem de manifestações por \\\n",
    "          Superitendência e suas repartições.\",\n",
    "    style=paragraph_styles['Default']\n",
    "))\n",
    "\n",
    "parts.append(Paragraph(\n",
    "    text=\"<b>Serviços</b> ({} {})\".format(\n",
    "        labelBuffer['services'],getResp(labelBuffer['services'])),\n",
    "    style=paragraph_styles['Default']\n",
    "))\n",
    "\n",
    "parts.append(Image(imgBuffer['services'],\n",
    "                  width= 5.35 * inch, \n",
    "                  height= imgSizes['services'].y * (5.35/imgSizes['services'].x) * inch,\n",
    "                  kind='proportional',\n",
    "                  hAlign='CENTER'))\n",
    "\n",
    "parts.append(Paragraph(\n",
    "    text=\"Gráfico 2 – Porcentagem de manifestações por Superintendência e \\\n",
    "          suas repartições.\",\n",
    "    style=paragraph_styles['DefaultCentered']\n",
    "))\n",
    "\n",
    "parts.append(PageBreak())"
   ]
  },
  {
   "cell_type": "markdown",
   "metadata": {
    "colab_type": "text",
    "id": "QwO1NZLr2BaC"
   },
   "source": [
    "### Objeto da Manifestação - TFD"
   ]
  },
  {
   "cell_type": "code",
   "execution_count": null,
   "metadata": {
    "colab": {},
    "colab_type": "code",
    "id": "M5ZNt1Xw2GeS"
   },
   "outputs": [],
   "source": [
    "if labelBuffer['tfd']:\n",
    "    parts.append(Paragraph(\n",
    "        text=\"<b>Objeto de Manifestação – TFD</b> ({} {})\".format(\n",
    "            labelBuffer['tfd'],getResp(labelBuffer['tfd'])),\n",
    "        style=paragraph_styles['Default']\n",
    "    ))\n",
    "\n",
    "    parts.append(Image(imgBuffer['tfd'],\n",
    "                    width= 5.35 * inch, \n",
    "                    height= imgSizes['tfd'].y * (5.35/imgSizes['tfd'].x) * inch,\n",
    "                    kind='proportional',\n",
    "                    hAlign='CENTER'))\n",
    "\n",
    "    if titles['TFD']:\n",
    "        parts.extend(pdf_list(titles['TFD']))\n",
    "    parts.append(PageBreak())"
   ]
  },
  {
   "cell_type": "markdown",
   "metadata": {
    "colab_type": "text",
    "id": "l4MclPoTBLwI"
   },
   "source": [
    "### Objeto de Manifestação - Central de Marcação"
   ]
  },
  {
   "cell_type": "code",
   "execution_count": null,
   "metadata": {
    "colab": {},
    "colab_type": "code",
    "id": "KVdneX9xBQs-"
   },
   "outputs": [],
   "source": [
    "if labelBuffer['marcacao']:    \n",
    "    parts.append(Paragraph(\n",
    "        text=\"<b>Objeto de Manifestação – Central de Marcação</b> ({} {})\".format(\n",
    "            labelBuffer['marcacao'],getResp(labelBuffer['marcacao'])),\n",
    "        style=paragraph_styles['Default']\n",
    "    ))\n",
    "\n",
    "    parts.append(Image(imgBuffer['marcacao'],\n",
    "                    width= 6.5 * inch, \n",
    "                    height= imgSizes['marcacao'].y * (6.5/imgSizes['marcacao'].x) * inch,\n",
    "                    kind='proportional',\n",
    "                    hAlign='CENTER'))\n",
    "\n",
    "\n",
    "    if titles['CM']:\n",
    "        parts.extend(pdf_list(titles['CM']))\n",
    "    parts.append(PageBreak())"
   ]
  },
  {
   "cell_type": "markdown",
   "metadata": {
    "colab_type": "text",
    "id": "_-3WaxaDBWiK"
   },
   "source": [
    "### Objeto de Manifestação - CEAE"
   ]
  },
  {
   "cell_type": "code",
   "execution_count": null,
   "metadata": {
    "colab": {},
    "colab_type": "code",
    "id": "mHsk-4rnBaDK"
   },
   "outputs": [],
   "source": [
    "if labelBuffer['ceae']:\n",
    "    parts.append(Paragraph(\n",
    "        text=\"<b>Objeto de Manifestação – CEAE</b> ({} {})\".format(\n",
    "            labelBuffer['ceae'],getResp(labelBuffer['ceae'])),\n",
    "        style=paragraph_styles['Default']\n",
    "    ))\n",
    "\n",
    "    parts.append(Image(imgBuffer['ceae'],\n",
    "                    width= 5.35 * inch, \n",
    "                    height= imgSizes['ceae'].y * (5.35/imgSizes['ceae'].x) * inch,\n",
    "                    kind='proportional',\n",
    "                    hAlign='CENTER'))\n",
    "\n",
    "    if titles['CEAE']:\n",
    "        parts.extend(pdf_list(titles['CEAE']))\n",
    "    parts.append(PageBreak())"
   ]
  },
  {
   "cell_type": "markdown",
   "metadata": {
    "colab_type": "text",
    "id": "iCbBcf4YBm_9"
   },
   "source": [
    "### Objeto de Manifestação – Urgência e Emergência"
   ]
  },
  {
   "cell_type": "code",
   "execution_count": null,
   "metadata": {
    "colab": {},
    "colab_type": "code",
    "id": "0ljNdKwtBt0t"
   },
   "outputs": [],
   "source": [
    "if labelBuffer['ue']:\n",
    "    parts.append(Paragraph(\n",
    "        text=\"<b>Objeto de Manifestação – Urgência e Emergência</b> ({} {})\".format(\n",
    "            labelBuffer['ue'],getResp(labelBuffer['ue'])),\n",
    "        style=paragraph_styles['Default']\n",
    "    ))\n",
    "\n",
    "    parts.append(Image(imgBuffer['ue'],\n",
    "                    width= 5.35 * inch, \n",
    "                    height= imgSizes['ue'].y * (5.35/imgSizes['ue'].x) * inch,\n",
    "                    kind='proportional',\n",
    "                    hAlign='CENTER'))\n",
    "\n",
    "    if titles['UE']:\n",
    "        parts.extend(pdf_list(titles['UE']))\n",
    "    parts.append(PageBreak())"
   ]
  },
  {
   "cell_type": "markdown",
   "metadata": {
    "colab_type": "text",
    "id": "5eJqNR7nBvRN"
   },
   "source": [
    "### Objeto de Manifestação – Centro de Reabilitação"
   ]
  },
  {
   "cell_type": "code",
   "execution_count": null,
   "metadata": {
    "colab": {},
    "colab_type": "code",
    "id": "alA3JtUnBsit"
   },
   "outputs": [],
   "source": [
    "if labelBuffer['cr']:\n",
    "    parts.append(Paragraph(\n",
    "        text=\"<b>Objeto de Manifestação – Centro de Reabilitação</b> ({} {})\".format(\n",
    "            labelBuffer['cr'],getResp(labelBuffer['cr'])),\n",
    "        style=paragraph_styles['Default']\n",
    "    ))\n",
    "\n",
    "    parts.append(Image(imgBuffer['cr'],\n",
    "                    width= 5.35 * inch, \n",
    "                    height= imgSizes['cr'].y * (5.35/imgSizes['cr'].x) * inch,\n",
    "                    kind='proportional',\n",
    "                    hAlign='CENTER'))\n",
    "\n",
    "    if titles['CR']:\n",
    "        parts.extend(pdf_list(titles['CR']))\n",
    "    parts.append(PageBreak())"
   ]
  },
  {
   "cell_type": "markdown",
   "metadata": {
    "colab_type": "text",
    "id": "XuWzNfdYBye0"
   },
   "source": [
    "### Objeto de Manifestação – PSF"
   ]
  },
  {
   "cell_type": "code",
   "execution_count": null,
   "metadata": {
    "colab": {},
    "colab_type": "code",
    "id": "QZp3zzUhB26S"
   },
   "outputs": [],
   "source": [
    "if labelBuffer['psf']:\n",
    "    parts.append(Paragraph(\n",
    "        text=\"<b>Objeto de Manifestação – PSF</b> ({} {})\".format(\n",
    "            labelBuffer['psf'],getResp(labelBuffer['psf'])),\n",
    "        style=paragraph_styles['Default']\n",
    "    ))\n",
    "\n",
    "    parts.append(Image(imgBuffer['psf'],\n",
    "                    width= 5.35 * inch, \n",
    "                    height= imgSizes['psf'].y * (5.35/imgSizes['psf'].x) * inch,\n",
    "                    kind='proportional',\n",
    "                    hAlign='CENTER'))\n",
    "\n",
    "\n",
    "    if titles['PSF']:\n",
    "        parts.extend(pdf_list(titles['PSF']))\n",
    "    parts.append(PageBreak())"
   ]
  },
  {
   "cell_type": "markdown",
   "metadata": {
    "colab_type": "text",
    "id": "PX6Lz56zB3h4"
   },
   "source": [
    "### Objeto de Manifestação – Saúde Bucal"
   ]
  },
  {
   "cell_type": "code",
   "execution_count": null,
   "metadata": {
    "colab": {},
    "colab_type": "code",
    "id": "A5tXBx1uB7ZY"
   },
   "outputs": [],
   "source": [
    "if labelBuffer['bucal']:\n",
    "    parts.append(Paragraph(\n",
    "        text=\"<b>Objeto de Manifestação – Saúde Bucal</b> ({} {})\".format(\n",
    "            labelBuffer['bucal'],getResp(labelBuffer['bucal'])),\n",
    "        style=paragraph_styles['Default']\n",
    "    ))\n",
    "\n",
    "    parts.append(Image(imgBuffer['bucal'],\n",
    "                    width= 5.35 * inch, \n",
    "                    height= imgSizes['bucal'].y * (5.35/imgSizes['bucal'].x) * inch,\n",
    "                    kind='proportional',\n",
    "                    hAlign='CENTER'))\n",
    "\n",
    "    if titles['SB']:\n",
    "        parts.extend(pdf_list(titles['SB']))\n",
    "    parts.append(PageBreak())"
   ]
  },
  {
   "cell_type": "markdown",
   "metadata": {
    "colab_type": "text",
    "id": "45_uTD7mCB5d"
   },
   "source": [
    "### Objeto de Manifestação – Policlínica"
   ]
  },
  {
   "cell_type": "code",
   "execution_count": null,
   "metadata": {
    "colab": {},
    "colab_type": "code",
    "id": "8JgnZuP2B-Qe"
   },
   "outputs": [],
   "source": [
    "if labelBuffer['poli']:\n",
    "    parts.append(Paragraph(\n",
    "        text=\"<b>Objeto de Manifestação – Policlínica</b> ({} {})\".format(\n",
    "            labelBuffer['poli'],getResp(labelBuffer['poli'])),\n",
    "        style=paragraph_styles['Default']\n",
    "    ))\n",
    "\n",
    "    parts.append(Image(imgBuffer['poli'],\n",
    "                    width= 5.35 * inch, \n",
    "                    height= imgSizes['poli'].y * (5.35/imgSizes['poli'].x) * inch,\n",
    "                    kind='proportional',\n",
    "                    hAlign='CENTER'))\n",
    "\n",
    "    if titles['Poli']:\n",
    "        parts.extend(pdf_list(titles['Poli']))\n",
    "    parts.append(PageBreak())"
   ]
  },
  {
   "cell_type": "markdown",
   "metadata": {
    "colab_type": "text",
    "id": "DMud8czdCFZs"
   },
   "source": [
    "### Objeto de Manifestação – Vigilância em Saúde"
   ]
  },
  {
   "cell_type": "code",
   "execution_count": null,
   "metadata": {
    "colab": {},
    "colab_type": "code",
    "id": "7GmWWAReB-Nj"
   },
   "outputs": [],
   "source": [
    "if labelBuffer['vsaude']:\n",
    "    parts.append(Paragraph(\n",
    "        text=\"<b>Objeto de Manifestação – Vigilância em Saúde</b> ({} {})\".format(\n",
    "            labelBuffer['vsaude'],getResp(labelBuffer['vsaude'])),\n",
    "        style=paragraph_styles['Default']\n",
    "    ))\n",
    "\n",
    "    parts.append(Image(imgBuffer['vsaude'],\n",
    "                    width= 5.35 * inch, \n",
    "                    height= imgSizes['vsaude'].y * (5.35/imgSizes['vsaude'].x) * inch,\n",
    "                    kind='proportional',\n",
    "                    hAlign='CENTER'))\n",
    "\n",
    "    if titles['VS']:\n",
    "        parts.extend(pdf_list(titles['VS']))\n",
    "    parts.append(PageBreak())"
   ]
  },
  {
   "cell_type": "markdown",
   "metadata": {
    "colab_type": "text",
    "id": "ViLSD08KCJd_"
   },
   "source": [
    "### Objeto de Manifestação – Assistência Farmacêutica, Insumos e Nutrição"
   ]
  },
  {
   "cell_type": "code",
   "execution_count": null,
   "metadata": {
    "colab": {},
    "colab_type": "code",
    "id": "gvCk3qb6B-Iz"
   },
   "outputs": [],
   "source": [
    "if labelBuffer['assist']:\n",
    "    parts.append(Paragraph(\n",
    "        text=\"<b>Objeto de Manifestação – Assistência Farmacêutica, Insumos e Nutrição</b> ({} {})\".format(\n",
    "            labelBuffer['assist'],getResp(labelBuffer['assist'])),\n",
    "        style=paragraph_styles['Default']\n",
    "    ))\n",
    "\n",
    "    parts.append(Image(imgBuffer['assist'],\n",
    "                    width= 5.35 * inch, \n",
    "                    height= imgSizes['assist'].y * (5.35/imgSizes['assist'].x) * inch,\n",
    "                    kind='proportional',\n",
    "                    hAlign='CENTER'))\n",
    "\n",
    "    if titles['Assist']:\n",
    "        parts.extend(pdf_list(titles['Assist']))\n",
    "    parts.append(PageBreak())"
   ]
  },
  {
   "cell_type": "markdown",
   "metadata": {
    "colab_type": "text",
    "id": "wAVzC8ZxCNXe"
   },
   "source": [
    "### Objeto de Manifestação – Administração em Saúde"
   ]
  },
  {
   "cell_type": "code",
   "execution_count": null,
   "metadata": {
    "colab": {},
    "colab_type": "code",
    "id": "1Fhof3d5CZ3x"
   },
   "outputs": [],
   "source": [
    "if labelBuffer['adm']:\n",
    "    parts.append(Paragraph(\n",
    "        text=\"<b>Objeto de Manifestação – Administração em Saúde</b> ({} {})\".format(\n",
    "            labelBuffer['adm'],getResp(labelBuffer['adm'])),\n",
    "        style=paragraph_styles['Default']\n",
    "    ))\n",
    "\n",
    "    parts.append(Image(imgBuffer['adm'],\n",
    "                    width= 5.35 * inch, \n",
    "                    height= imgSizes['adm'].y * (5.35/imgSizes['adm'].x) * inch,\n",
    "                    kind='proportional',\n",
    "                    hAlign='CENTER'))\n",
    "\n",
    "    if titles['ADM']:\n",
    "        parts.extend(pdf_list(titles['ADM']))\n",
    "    parts.append(PageBreak())"
   ]
  },
  {
   "cell_type": "markdown",
   "metadata": {
    "colab_type": "text",
    "id": "ZN34FsV5CQfE"
   },
   "source": [
    "### Objeto de Manifestação – Saúde Mental"
   ]
  },
  {
   "cell_type": "code",
   "execution_count": null,
   "metadata": {
    "colab": {},
    "colab_type": "code",
    "id": "xPbyENzmCagP"
   },
   "outputs": [],
   "source": [
    "if labelBuffer['mental']:\n",
    "    parts.append(Paragraph(\n",
    "        text=\"<b>Objeto de Manifestação – Saúde Mental</b> ({} {})\".format(\n",
    "            labelBuffer['mental'],getResp(labelBuffer['mental'])),\n",
    "        style=paragraph_styles['Default']\n",
    "    ))\n",
    "\n",
    "    parts.append(Image(imgBuffer['mental'],\n",
    "                    width= 5.35 * inch, \n",
    "                    height= imgSizes['mental'].y * (5.35/imgSizes['mental'].x) * inch,\n",
    "                    kind='proportional',\n",
    "                    hAlign='CENTER'))\n",
    "\n",
    "    if titles['SM']:\n",
    "        parts.extend(pdf_list(titles['SM']))\n",
    "    parts.append(PageBreak())"
   ]
  },
  {
   "cell_type": "markdown",
   "metadata": {
    "colab_type": "text",
    "id": "aQ7F9nkACUJh"
   },
   "source": [
    "### Origem da demanda"
   ]
  },
  {
   "cell_type": "code",
   "execution_count": null,
   "metadata": {
    "colab": {},
    "colab_type": "code",
    "id": "TnDU7ATfCbCf"
   },
   "outputs": [],
   "source": [
    "if labelBuffer['unidade']:\n",
    "    parts.append(Paragraph(\n",
    "        text=\"<b>Origem da demanda</b> ({} {})\".format(\n",
    "            labelBuffer['unidade'],getResp(labelBuffer['unidade'])),\n",
    "        style=paragraph_styles['Default']\n",
    "    ))\n",
    "\n",
    "    parts.append(Image(imgBuffer['unidade'],\n",
    "                    width= 5.35 * inch, \n",
    "                    height= imgSizes['unidade'].y * (5.35/imgSizes['unidade'].x) * inch,\n",
    "                    kind='proportional',\n",
    "                    hAlign='CENTER'))\n",
    "\n",
    "    titles['TFD'] = None\n",
    "    if titles['TFD']:\n",
    "        parts.extend(pdf_list(titles['TFD']))\n",
    "    parts.append(PageBreak())"
   ]
  },
  {
   "cell_type": "markdown",
   "metadata": {
    "colab_type": "text",
    "id": "v9EriYORCXDv"
   },
   "source": [
    "### Resolução/Resposta"
   ]
  },
  {
   "cell_type": "code",
   "execution_count": null,
   "metadata": {
    "colab": {},
    "colab_type": "code",
    "id": "k8sATaSWB93Q"
   },
   "outputs": [],
   "source": [
    "parts.append(Paragraph(\n",
    "    text=\"O Gráfico 4 demonstra a porcentagem de manifestações de acordo com \\\n",
    "          a resolução/resposta.\",\n",
    "    style=paragraph_styles['Default']\n",
    "))\n",
    "parts.append(Paragraph(\n",
    "    text=\"<b>Resolução/Resposta</b> ({} {})\".format(\n",
    "        labelBuffer['resolucao'],getResp(labelBuffer['resolucao'])),\n",
    "    style=paragraph_styles['Default']\n",
    "))\n",
    "\n",
    "parts.append(Image(imgBuffer['resolucao'],\n",
    "                  width= 6.5 * inch, \n",
    "                  height= imgSizes['resolucao'].y * (6.5/imgSizes['resolucao'].x) * inch,\n",
    "                  kind='proportional',\n",
    "                  hAlign='CENTER'))\n",
    "\n",
    "parts.append(Paragraph(\n",
    "    text=\"Gráfico 4 – Porcentagem de acordo com a resolução/resposta\",\n",
    "    style=paragraph_styles['Centered']\n",
    "))\n",
    "\n",
    "\n",
    "parts.append(PageBreak())"
   ]
  },
  {
   "cell_type": "markdown",
   "metadata": {
    "colab_type": "text",
    "id": "uk70OnBJDCAy"
   },
   "source": [
    "### Saving"
   ]
  },
  {
   "cell_type": "code",
   "execution_count": null,
   "metadata": {
    "colab": {},
    "colab_type": "code",
    "id": "nsGHwkswytFU"
   },
   "outputs": [],
   "source": [
    "def build():\n",
    "    global page\n",
    "    page = SimpleDocTemplate(\n",
    "        fileName + '.pdf', \n",
    "        pagesize=A4,\n",
    "        topMargin=3*cm,\n",
    "        leftMargin=3*cm,\n",
    "        bottomMargin=2*cm,\n",
    "        rightMargin=2*cm,\n",
    "        title='Ouvidoria - ' + month,\n",
    "        author= 'ppcamp and ph')\n",
    "\n",
    "    page.build(parts)\n",
    "\n",
    "build()"
   ]
  }
 ],
 "metadata": {
  "accelerator": "GPU",
  "colab": {
   "collapsed_sections": [],
   "name": "project_reborn",
   "provenance": [],
   "toc_visible": true
  },
  "kernelspec": {
   "display_name": "Python 3",
   "language": "python",
   "name": "python3"
  },
  "language_info": {
   "codemirror_mode": {
    "name": "ipython",
    "version": 3
   },
   "file_extension": ".py",
   "mimetype": "text/x-python",
   "name": "python",
   "nbconvert_exporter": "python",
   "pygments_lexer": "ipython3",
   "version": "3.8.2"
  },
  "toc-autonumbering": true,
  "widgets": {
   "application/vnd.jupyter.widget-state+json": {
    "59afbb7bf6154ebe898146e5d02440fc": {
     "model_module": "@jupyter-widgets/base",
     "model_name": "LayoutModel",
     "state": {
      "_model_module": "@jupyter-widgets/base",
      "_model_module_version": "1.2.0",
      "_model_name": "LayoutModel",
      "_view_count": null,
      "_view_module": "@jupyter-widgets/base",
      "_view_module_version": "1.2.0",
      "_view_name": "LayoutView",
      "align_content": null,
      "align_items": null,
      "align_self": null,
      "border": null,
      "bottom": null,
      "display": null,
      "flex": null,
      "flex_flow": null,
      "grid_area": null,
      "grid_auto_columns": null,
      "grid_auto_flow": null,
      "grid_auto_rows": null,
      "grid_column": null,
      "grid_gap": null,
      "grid_row": null,
      "grid_template_areas": null,
      "grid_template_columns": null,
      "grid_template_rows": null,
      "height": null,
      "justify_content": null,
      "justify_items": null,
      "left": null,
      "margin": null,
      "max_height": null,
      "max_width": null,
      "min_height": null,
      "min_width": null,
      "object_fit": null,
      "object_position": null,
      "order": null,
      "overflow": null,
      "overflow_x": null,
      "overflow_y": null,
      "padding": null,
      "right": null,
      "top": null,
      "visibility": null,
      "width": null
     }
    },
    "b16b154a258546178442735021e84884": {
     "model_module": "@jupyter-widgets/controls",
     "model_name": "DescriptionStyleModel",
     "state": {
      "_model_module": "@jupyter-widgets/controls",
      "_model_module_version": "1.5.0",
      "_model_name": "DescriptionStyleModel",
      "_view_count": null,
      "_view_module": "@jupyter-widgets/base",
      "_view_module_version": "1.2.0",
      "_view_name": "StyleView",
      "description_width": ""
     }
    },
    "b3094c91e2534ef9bfb2be93e29293ec": {
     "model_module": "@jupyter-widgets/controls",
     "model_name": "DropdownModel",
     "state": {
      "_dom_classes": [],
      "_model_module": "@jupyter-widgets/controls",
      "_model_module_version": "1.5.0",
      "_model_name": "DropdownModel",
      "_options_labels": [
       "Respostas ao formulário 1"
      ],
      "_view_count": null,
      "_view_module": "@jupyter-widgets/controls",
      "_view_module_version": "1.5.0",
      "_view_name": "DropdownView",
      "description": "Select tab",
      "description_tooltip": null,
      "disabled": false,
      "index": 0,
      "layout": "IPY_MODEL_59afbb7bf6154ebe898146e5d02440fc",
      "style": "IPY_MODEL_b16b154a258546178442735021e84884"
     }
    }
   }
  }
 },
 "nbformat": 4,
 "nbformat_minor": 4
}
